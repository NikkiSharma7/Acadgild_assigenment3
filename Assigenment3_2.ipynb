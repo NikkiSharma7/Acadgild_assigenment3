{
 "cells": [
  {
   "cell_type": "markdown",
   "metadata": {},
   "source": [
    "# Problem Statement 1:"
   ]
  },
  {
   "cell_type": "markdown",
   "metadata": {},
   "source": [
    "Implement a Python program to generate all sentences where subject is in\n",
    "[\"Americans\", \"Indians\"] and verb is in [\"Play\", \"watch\"] and the object is in\n",
    "[\"Baseball\",\"cricket\"]."
   ]
  },
  {
   "cell_type": "markdown",
   "metadata": {},
   "source": [
    "# Soluation"
   ]
  },
  {
   "cell_type": "code",
   "execution_count": 7,
   "metadata": {},
   "outputs": [
    {
     "name": "stdout",
     "output_type": "stream",
     "text": [
      "Americans Play \n",
      "Americans watch \n",
      "Indians Play \n",
      "Indians watch \n"
     ]
    }
   ],
   "source": [
    "subjects=[\"Americans\", \"Indians\"]\n",
    "verbs= [\"Play\", \"watch\"]\n",
    "objects=[\"Baseball\",\"cricket\"]\n",
    "# using for loop\n",
    "for sub in subjects:\n",
    "    sub_sentence=sub+' '\n",
    "    for verb in verbs:\n",
    "        verb_sentence= sub_sentence+ verb+' '\n",
    "        for obj in objects:\n",
    "            obj_sentence=\n",
    "        print(sentence)\n",
    "\n",
    "\n",
    "            "
   ]
  },
  {
   "cell_type": "code",
   "execution_count": null,
   "metadata": {},
   "outputs": [],
   "source": []
  }
 ],
 "metadata": {
  "kernelspec": {
   "display_name": "Python 3",
   "language": "python",
   "name": "python3"
  },
  "language_info": {
   "codemirror_mode": {
    "name": "ipython",
    "version": 3
   },
   "file_extension": ".py",
   "mimetype": "text/x-python",
   "name": "python",
   "nbconvert_exporter": "python",
   "pygments_lexer": "ipython3",
   "version": "3.6.4"
  }
 },
 "nbformat": 4,
 "nbformat_minor": 2
}
